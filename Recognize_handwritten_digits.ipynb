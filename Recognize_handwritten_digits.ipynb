{
  "nbformat": 4,
  "nbformat_minor": 0,
  "metadata": {
    "colab": {
      "provenance": [],
      "authorship_tag": "ABX9TyMaT+DoL7tmQc6c4BQEwDFF",
      "include_colab_link": true
    },
    "kernelspec": {
      "name": "python3",
      "display_name": "Python 3"
    },
    "language_info": {
      "name": "python"
    }
  },
  "cells": [
    {
      "cell_type": "markdown",
      "metadata": {
        "id": "view-in-github",
        "colab_type": "text"
      },
      "source": [
        "<a href=\"https://colab.research.google.com/github/Uchiha-byte/Code_Clause_Internship_Artificial_Intelligence/blob/main/Recognize_handwritten_digits.ipynb\" target=\"_parent\"><img src=\"https://colab.research.google.com/assets/colab-badge.svg\" alt=\"Open In Colab\"/></a>"
      ]
    },
    {
      "source": [
        "import os\n",
        "import cv2\n",
        "import numpy as np\n",
        "import tensorflow as tf\n",
        "import matplotlib.pyplot as plt\n",
        "\n",
        "print(\"Welcome (c) Handwritten Digits Recognition v0.1\")\n",
        "\n",
        "# Decide if to load an existing model or to train a new one\n",
        "train_new_model = True\n",
        "\n",
        "if train_new_model:\n",
        "    # Loading the MNIST data set with samples and splitting it\n",
        "    mnist = tf.keras.datasets.mnist\n",
        "    (X_train, y_train), (X_test, y_test) = mnist.load_data()\n",
        "\n",
        "    # Normalizing the data (making length = 1)\n",
        "    X_train = tf.keras.utils.normalize(X_train, axis=1)\n",
        "    X_test = tf.keras.utils.normalize(X_test, axis=1)\n",
        "\n",
        "    # Create a neural network model\n",
        "    # Add one flattened input layer for the pixels\n",
        "    # Add two dense hidden layers\n",
        "    # Add one dense output layer for the 10 digits\n",
        "    model = tf.keras.models.Sequential()\n",
        "    model.add(tf.keras.layers.Flatten())\n",
        "    model.add(tf.keras.layers.Dense(units=128, activation=tf.nn.relu))\n",
        "    model.add(tf.keras.layers.Dense(units=128, activation=tf.nn.relu))\n",
        "    model.add(tf.keras.layers.Dense(units=10, activation=tf.nn.softmax))\n",
        "\n",
        "    # Compiling and optimizing model\n",
        "    model.compile(optimizer='adam', loss='sparse_categorical_crossentropy', metrics=['accuracy'])\n",
        "\n",
        "    # Training the model\n",
        "    model.fit(X_train, y_train, epochs=3)\n",
        "\n",
        "    # Evaluating the model\n",
        "    val_loss, val_acc = model.evaluate(X_test, y_test)\n",
        "    print(val_loss)\n",
        "    print(val_acc)\n",
        "\n",
        "    # Saving the model with the recommended .keras extension\n",
        "    model.save('handwritten_digits.keras')\n",
        "else:\n",
        "    # Load the model (remember to update the file extension here too if you change the save extension)\n",
        "    model = tf.keras.models.load_model('handwritten_digits.keras')\n",
        "\n",
        "# Load custom images and predict them\n",
        "image_number = 1\n",
        "while os.path.isfile('digits/digit{}.png'.format(image_number)):\n",
        "    try:\n",
        "        img = cv2.imread('digits/digit{}.png'.format(image_number))[:,:,0]\n",
        "        img = np.invert(np.array([img]))\n",
        "        prediction = model.predict(img)\n",
        "        print(\"The number is probably a {}\".format(np.argmax(prediction)))\n",
        "        plt.imshow(img[0], cmap=plt.cm.binary)\n",
        "        plt.show()\n",
        "        image_number += 1\n",
        "    except:\n",
        "        print(\"Error reading image! Proceeding with next image...\")\n",
        "        image_number += 1"
      ],
      "cell_type": "code",
      "metadata": {
        "id": "RfeT23y9UjD4"
      },
      "execution_count": null,
      "outputs": []
    }
  ]
}